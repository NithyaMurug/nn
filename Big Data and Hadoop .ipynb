{
 "cells": [
  {
   "cell_type": "code",
   "execution_count": 1,
   "id": "289d9dbe",
   "metadata": {
    "colab": {
     "base_uri": "https://localhost:8080/"
    },
    "id": "_KgbtNichZms",
    "outputId": "624a02fa-ca52-4a15-a53d-e3a5a1fc425f"
   },
   "outputs": [
    {
     "name": "stdout",
     "output_type": "stream",
     "text": [
      "Collecting pyspark\n",
      "  Downloading pyspark-3.2.0.tar.gz (281.3 MB)\n",
      "\u001b[K     |████████████████████████████████| 281.3 MB 41 kB/s \n",
      "\u001b[?25hCollecting py4j==0.10.9.2\n",
      "  Downloading py4j-0.10.9.2-py2.py3-none-any.whl (198 kB)\n",
      "\u001b[K     |████████████████████████████████| 198 kB 45.2 MB/s \n",
      "\u001b[?25hBuilding wheels for collected packages: pyspark\n",
      "  Building wheel for pyspark (setup.py) ... \u001b[?25l\u001b[?25hdone\n",
      "  Created wheel for pyspark: filename=pyspark-3.2.0-py2.py3-none-any.whl size=281805912 sha256=1bdfbc0415be81438a28300abc84de20f5f7dd4d61bdd7d8f8e3e327ead4454e\n",
      "  Stored in directory: /root/.cache/pip/wheels/0b/de/d2/9be5d59d7331c6c2a7c1b6d1a4f463ce107332b1ecd4e80718\n",
      "Successfully built pyspark\n",
      "Installing collected packages: py4j, pyspark\n",
      "Successfully installed py4j-0.10.9.2 pyspark-3.2.0\n"
     ]
    }
   ],
   "source": [
    "#!pip install pyspark"
   ]
  },
  {
   "cell_type": "code",
   "execution_count": 2,
   "id": "84f979b6",
   "metadata": {
    "id": "X6hCer-jiHJv"
   },
   "outputs": [],
   "source": [
    "import pyspark"
   ]
  },
  {
   "cell_type": "code",
   "execution_count": 3,
   "id": "731e1487",
   "metadata": {
    "colab": {
     "base_uri": "https://localhost:8080/"
    },
    "id": "KZC17bnyiTxw",
    "outputId": "2b87bc7e-35ac-4c1b-bd62-13314c58ecd9"
   },
   "outputs": [
    {
     "name": "stdout",
     "output_type": "stream",
     "text": [
      "Mounted at /content/drive\n"
     ]
    }
   ],
   "source": [
    "from google.colab import drive\n",
    "drive.mount('/content/drive')"
   ]
  },
  {
   "cell_type": "code",
   "execution_count": 5,
   "id": "d0c88f17",
   "metadata": {
    "colab": {
     "base_uri": "https://localhost:8080/"
    },
    "id": "q_87pxQuivir",
    "outputId": "0469474c-fa4c-44fc-86ce-9e58dae2503f"
   },
   "outputs": [
    {
     "name": "stdout",
     "output_type": "stream",
     "text": [
      "root\n",
      " |-- CRIM: double (nullable = true)\n",
      " |-- ZN: double (nullable = true)\n",
      " |-- INDUS: double (nullable = true)\n",
      " |-- CHAS: integer (nullable = true)\n",
      " |-- NOX: double (nullable = true)\n",
      " |-- RM: double (nullable = true)\n",
      " |-- AGE: double (nullable = true)\n",
      " |-- DIS: double (nullable = true)\n",
      " |-- RAD: integer (nullable = true)\n",
      " |-- TAX: integer (nullable = true)\n",
      " |-- PT: double (nullable = true)\n",
      " |-- B: double (nullable = true)\n",
      " |-- LSTAT: double (nullable = true)\n",
      " |-- MV: double (nullable = true)\n",
      "\n"
     ]
    }
   ],
   "source": [
    "data = spark.read.csv('/content/drive/data/boston.csv', header = True, inferSchema = True)\n",
    "data.printSchema()"
   ]
  },
  {
   "cell_type": "code",
   "execution_count": 6,
   "id": "ae0f1235",
   "metadata": {
    "colab": {
     "base_uri": "https://localhost:8080/",
     "height": 488
    },
    "id": "4uUj5a8Sivy9",
    "outputId": "5bd09ee7-7fde-403c-d2e0-01072adc6caf"
   },
   "outputs": [
    {
     "data": {
      "text/html": [
       "<div>\n",
       "<style scoped>\n",
       "    .dataframe tbody tr th:only-of-type {\n",
       "        vertical-align: middle;\n",
       "    }\n",
       "\n",
       "    .dataframe tbody tr th {\n",
       "        vertical-align: top;\n",
       "    }\n",
       "\n",
       "    .dataframe thead th {\n",
       "        text-align: right;\n",
       "    }\n",
       "</style>\n",
       "<table border=\"1\" class=\"dataframe\">\n",
       "  <thead>\n",
       "    <tr style=\"text-align: right;\">\n",
       "      <th></th>\n",
       "      <th>0</th>\n",
       "      <th>1</th>\n",
       "      <th>2</th>\n",
       "      <th>3</th>\n",
       "      <th>4</th>\n",
       "    </tr>\n",
       "  </thead>\n",
       "  <tbody>\n",
       "    <tr>\n",
       "      <th>CRIM</th>\n",
       "      <td>0.006320</td>\n",
       "      <td>0.027310</td>\n",
       "      <td>0.027290</td>\n",
       "      <td>0.032370</td>\n",
       "      <td>0.069050</td>\n",
       "    </tr>\n",
       "    <tr>\n",
       "      <th>ZN</th>\n",
       "      <td>18.000000</td>\n",
       "      <td>0.000000</td>\n",
       "      <td>0.000000</td>\n",
       "      <td>0.000000</td>\n",
       "      <td>0.000000</td>\n",
       "    </tr>\n",
       "    <tr>\n",
       "      <th>INDUS</th>\n",
       "      <td>2.310000</td>\n",
       "      <td>7.070000</td>\n",
       "      <td>7.070000</td>\n",
       "      <td>2.180000</td>\n",
       "      <td>2.180000</td>\n",
       "    </tr>\n",
       "    <tr>\n",
       "      <th>CHAS</th>\n",
       "      <td>0.000000</td>\n",
       "      <td>0.000000</td>\n",
       "      <td>0.000000</td>\n",
       "      <td>0.000000</td>\n",
       "      <td>0.000000</td>\n",
       "    </tr>\n",
       "    <tr>\n",
       "      <th>NOX</th>\n",
       "      <td>0.538000</td>\n",
       "      <td>0.469000</td>\n",
       "      <td>0.469000</td>\n",
       "      <td>0.458000</td>\n",
       "      <td>0.458000</td>\n",
       "    </tr>\n",
       "    <tr>\n",
       "      <th>RM</th>\n",
       "      <td>6.575000</td>\n",
       "      <td>6.421000</td>\n",
       "      <td>7.185000</td>\n",
       "      <td>6.998000</td>\n",
       "      <td>7.147000</td>\n",
       "    </tr>\n",
       "    <tr>\n",
       "      <th>AGE</th>\n",
       "      <td>65.199997</td>\n",
       "      <td>78.900002</td>\n",
       "      <td>61.099998</td>\n",
       "      <td>45.799999</td>\n",
       "      <td>54.200001</td>\n",
       "    </tr>\n",
       "    <tr>\n",
       "      <th>DIS</th>\n",
       "      <td>4.090000</td>\n",
       "      <td>4.967100</td>\n",
       "      <td>4.967100</td>\n",
       "      <td>6.062200</td>\n",
       "      <td>6.062200</td>\n",
       "    </tr>\n",
       "    <tr>\n",
       "      <th>RAD</th>\n",
       "      <td>1.000000</td>\n",
       "      <td>2.000000</td>\n",
       "      <td>2.000000</td>\n",
       "      <td>3.000000</td>\n",
       "      <td>3.000000</td>\n",
       "    </tr>\n",
       "    <tr>\n",
       "      <th>TAX</th>\n",
       "      <td>296.000000</td>\n",
       "      <td>242.000000</td>\n",
       "      <td>242.000000</td>\n",
       "      <td>222.000000</td>\n",
       "      <td>222.000000</td>\n",
       "    </tr>\n",
       "    <tr>\n",
       "      <th>PT</th>\n",
       "      <td>15.300000</td>\n",
       "      <td>17.799999</td>\n",
       "      <td>17.799999</td>\n",
       "      <td>18.700001</td>\n",
       "      <td>18.700001</td>\n",
       "    </tr>\n",
       "    <tr>\n",
       "      <th>B</th>\n",
       "      <td>396.899994</td>\n",
       "      <td>396.899994</td>\n",
       "      <td>392.829987</td>\n",
       "      <td>394.630005</td>\n",
       "      <td>396.899994</td>\n",
       "    </tr>\n",
       "    <tr>\n",
       "      <th>LSTAT</th>\n",
       "      <td>4.980000</td>\n",
       "      <td>9.140000</td>\n",
       "      <td>4.030000</td>\n",
       "      <td>2.940000</td>\n",
       "      <td>5.330000</td>\n",
       "    </tr>\n",
       "    <tr>\n",
       "      <th>MV</th>\n",
       "      <td>24.000000</td>\n",
       "      <td>21.600000</td>\n",
       "      <td>34.700001</td>\n",
       "      <td>33.400002</td>\n",
       "      <td>36.200001</td>\n",
       "    </tr>\n",
       "  </tbody>\n",
       "</table>\n",
       "</div>"
      ],
      "text/plain": [
       "                0           1           2           3           4\n",
       "CRIM     0.006320    0.027310    0.027290    0.032370    0.069050\n",
       "ZN      18.000000    0.000000    0.000000    0.000000    0.000000\n",
       "INDUS    2.310000    7.070000    7.070000    2.180000    2.180000\n",
       "CHAS     0.000000    0.000000    0.000000    0.000000    0.000000\n",
       "NOX      0.538000    0.469000    0.469000    0.458000    0.458000\n",
       "RM       6.575000    6.421000    7.185000    6.998000    7.147000\n",
       "AGE     65.199997   78.900002   61.099998   45.799999   54.200001\n",
       "DIS      4.090000    4.967100    4.967100    6.062200    6.062200\n",
       "RAD      1.000000    2.000000    2.000000    3.000000    3.000000\n",
       "TAX    296.000000  242.000000  242.000000  222.000000  222.000000\n",
       "PT      15.300000   17.799999   17.799999   18.700001   18.700001\n",
       "B      396.899994  396.899994  392.829987  394.630005  396.899994\n",
       "LSTAT    4.980000    9.140000    4.030000    2.940000    5.330000\n",
       "MV      24.000000   21.600000   34.700001   33.400002   36.200001"
      ]
     },
     "execution_count": 6,
     "metadata": {},
     "output_type": "execute_result"
    }
   ],
   "source": [
    "import pandas\n",
    "pandas.DataFrame(data.take(5), columns=data.columns).transpose()"
   ]
  },
  {
   "cell_type": "code",
   "execution_count": 16,
   "id": "c862d6d8",
   "metadata": {
    "colab": {
     "base_uri": "https://localhost:8080/",
     "height": 520
    },
    "id": "siidzP01t6We",
    "outputId": "640668c5-3b47-4296-848c-9d68ecb7dcd7"
   },
   "outputs": [
    {
     "data": {
      "text/html": [
       "<div>\n",
       "<style scoped>\n",
       "    .dataframe tbody tr th:only-of-type {\n",
       "        vertical-align: middle;\n",
       "    }\n",
       "\n",
       "    .dataframe tbody tr th {\n",
       "        vertical-align: top;\n",
       "    }\n",
       "\n",
       "    .dataframe thead th {\n",
       "        text-align: right;\n",
       "    }\n",
       "</style>\n",
       "<table border=\"1\" class=\"dataframe\">\n",
       "  <thead>\n",
       "    <tr style=\"text-align: right;\">\n",
       "      <th></th>\n",
       "      <th>0</th>\n",
       "      <th>1</th>\n",
       "      <th>2</th>\n",
       "      <th>3</th>\n",
       "      <th>4</th>\n",
       "    </tr>\n",
       "  </thead>\n",
       "  <tbody>\n",
       "    <tr>\n",
       "      <th>summary</th>\n",
       "      <td>count</td>\n",
       "      <td>mean</td>\n",
       "      <td>stddev</td>\n",
       "      <td>min</td>\n",
       "      <td>max</td>\n",
       "    </tr>\n",
       "    <tr>\n",
       "      <th>CRIM</th>\n",
       "      <td>506</td>\n",
       "      <td>3.6135235608162057</td>\n",
       "      <td>8.601545086715594</td>\n",
       "      <td>0.00632</td>\n",
       "      <td>88.97619629</td>\n",
       "    </tr>\n",
       "    <tr>\n",
       "      <th>ZN</th>\n",
       "      <td>506</td>\n",
       "      <td>11.363636363636363</td>\n",
       "      <td>23.32245299451514</td>\n",
       "      <td>0.0</td>\n",
       "      <td>100.0</td>\n",
       "    </tr>\n",
       "    <tr>\n",
       "      <th>INDUS</th>\n",
       "      <td>506</td>\n",
       "      <td>11.136778749531626</td>\n",
       "      <td>6.86035298095724</td>\n",
       "      <td>0.460000008</td>\n",
       "      <td>27.73999977</td>\n",
       "    </tr>\n",
       "    <tr>\n",
       "      <th>CHAS</th>\n",
       "      <td>506</td>\n",
       "      <td>0.0691699604743083</td>\n",
       "      <td>0.2539940413404101</td>\n",
       "      <td>0</td>\n",
       "      <td>1</td>\n",
       "    </tr>\n",
       "    <tr>\n",
       "      <th>NOX</th>\n",
       "      <td>506</td>\n",
       "      <td>0.5546950602312246</td>\n",
       "      <td>0.1158776754570543</td>\n",
       "      <td>0.38499999</td>\n",
       "      <td>0.870999992</td>\n",
       "    </tr>\n",
       "    <tr>\n",
       "      <th>RM</th>\n",
       "      <td>506</td>\n",
       "      <td>6.28463438896641</td>\n",
       "      <td>0.7026171549511354</td>\n",
       "      <td>3.561000109</td>\n",
       "      <td>8.779999733</td>\n",
       "    </tr>\n",
       "    <tr>\n",
       "      <th>AGE</th>\n",
       "      <td>506</td>\n",
       "      <td>68.57490120115612</td>\n",
       "      <td>28.148861532793276</td>\n",
       "      <td>2.900000095</td>\n",
       "      <td>100.0</td>\n",
       "    </tr>\n",
       "    <tr>\n",
       "      <th>DIS</th>\n",
       "      <td>506</td>\n",
       "      <td>3.7950426960059325</td>\n",
       "      <td>2.105710142043288</td>\n",
       "      <td>1.129600048</td>\n",
       "      <td>12.12650013</td>\n",
       "    </tr>\n",
       "    <tr>\n",
       "      <th>RAD</th>\n",
       "      <td>506</td>\n",
       "      <td>9.549407114624506</td>\n",
       "      <td>8.707259384239366</td>\n",
       "      <td>1</td>\n",
       "      <td>24</td>\n",
       "    </tr>\n",
       "    <tr>\n",
       "      <th>TAX</th>\n",
       "      <td>506</td>\n",
       "      <td>408.2371541501976</td>\n",
       "      <td>168.53711605495903</td>\n",
       "      <td>187</td>\n",
       "      <td>711</td>\n",
       "    </tr>\n",
       "    <tr>\n",
       "      <th>PT</th>\n",
       "      <td>506</td>\n",
       "      <td>18.45553382776679</td>\n",
       "      <td>2.164945780039869</td>\n",
       "      <td>12.60000038</td>\n",
       "      <td>22.0</td>\n",
       "    </tr>\n",
       "    <tr>\n",
       "      <th>B</th>\n",
       "      <td>506</td>\n",
       "      <td>356.67402960597883</td>\n",
       "      <td>91.29486340272308</td>\n",
       "      <td>0.319999993</td>\n",
       "      <td>396.8999939</td>\n",
       "    </tr>\n",
       "    <tr>\n",
       "      <th>LSTAT</th>\n",
       "      <td>506</td>\n",
       "      <td>12.653063233922925</td>\n",
       "      <td>7.141061500195388</td>\n",
       "      <td>1.730000019</td>\n",
       "      <td>37.97000122</td>\n",
       "    </tr>\n",
       "    <tr>\n",
       "      <th>MV</th>\n",
       "      <td>506</td>\n",
       "      <td>22.53280636250988</td>\n",
       "      <td>9.197104107945272</td>\n",
       "      <td>5.0</td>\n",
       "      <td>50.0</td>\n",
       "    </tr>\n",
       "  </tbody>\n",
       "</table>\n",
       "</div>"
      ],
      "text/plain": [
       "             0                   1  ...            3            4\n",
       "summary  count                mean  ...          min          max\n",
       "CRIM       506  3.6135235608162057  ...      0.00632  88.97619629\n",
       "ZN         506  11.363636363636363  ...          0.0        100.0\n",
       "INDUS      506  11.136778749531626  ...  0.460000008  27.73999977\n",
       "CHAS       506  0.0691699604743083  ...            0            1\n",
       "NOX        506  0.5546950602312246  ...   0.38499999  0.870999992\n",
       "RM         506    6.28463438896641  ...  3.561000109  8.779999733\n",
       "AGE        506   68.57490120115612  ...  2.900000095        100.0\n",
       "DIS        506  3.7950426960059325  ...  1.129600048  12.12650013\n",
       "RAD        506   9.549407114624506  ...            1           24\n",
       "TAX        506   408.2371541501976  ...          187          711\n",
       "PT         506   18.45553382776679  ...  12.60000038         22.0\n",
       "B          506  356.67402960597883  ...  0.319999993  396.8999939\n",
       "LSTAT      506  12.653063233922925  ...  1.730000019  37.97000122\n",
       "MV         506   22.53280636250988  ...          5.0         50.0\n",
       "\n",
       "[15 rows x 5 columns]"
      ]
     },
     "execution_count": 16,
     "metadata": {},
     "output_type": "execute_result"
    }
   ],
   "source": [
    "data.describe().toPandas().transpose()"
   ]
  },
  {
   "cell_type": "code",
   "execution_count": 18,
   "id": "3ab664c9",
   "metadata": {
    "id": "Rnd5s23dt-61"
   },
   "outputs": [],
   "source": [
    "import pandas as pd\n",
    "numeric_features = [t[0] for t in data.dtypes if t[1] == 'int' or t[1] == 'double']"
   ]
  },
  {
   "cell_type": "code",
   "execution_count": 19,
   "id": "d3eefd5e",
   "metadata": {
    "colab": {
     "base_uri": "https://localhost:8080/"
    },
    "id": "45WGIB0Xt_Jj",
    "outputId": "c0ba4044-dbcb-4c39-b01d-a43f5439f368"
   },
   "outputs": [
    {
     "data": {
      "text/plain": [
       "['CRIM',\n",
       " 'ZN',\n",
       " 'INDUS',\n",
       " 'CHAS',\n",
       " 'NOX',\n",
       " 'RM',\n",
       " 'AGE',\n",
       " 'DIS',\n",
       " 'RAD',\n",
       " 'TAX',\n",
       " 'PT',\n",
       " 'B',\n",
       " 'LSTAT',\n",
       " 'MV']"
      ]
     },
     "execution_count": 19,
     "metadata": {},
     "output_type": "execute_result"
    }
   ],
   "source": [
    "numeric_features"
   ]
  },
  {
   "cell_type": "code",
   "execution_count": 20,
   "id": "1ed9c4e5",
   "metadata": {
    "id": "k77w48Gkt_T5"
   },
   "outputs": [],
   "source": [
    "sampled_data = data.select(numeric_features).sample(False, 0.8).toPandas()"
   ]
  },
  {
   "cell_type": "code",
   "execution_count": 21,
   "id": "859ef1af",
   "metadata": {
    "colab": {
     "base_uri": "https://localhost:8080/",
     "height": 423
    },
    "id": "eqhre7Ppuiwm",
    "outputId": "4bde166a-4c1d-45e6-ab91-606a4993e332"
   },
   "outputs": [
    {
     "data": {
      "text/html": [
       "<div>\n",
       "<style scoped>\n",
       "    .dataframe tbody tr th:only-of-type {\n",
       "        vertical-align: middle;\n",
       "    }\n",
       "\n",
       "    .dataframe tbody tr th {\n",
       "        vertical-align: top;\n",
       "    }\n",
       "\n",
       "    .dataframe thead th {\n",
       "        text-align: right;\n",
       "    }\n",
       "</style>\n",
       "<table border=\"1\" class=\"dataframe\">\n",
       "  <thead>\n",
       "    <tr style=\"text-align: right;\">\n",
       "      <th></th>\n",
       "      <th>CRIM</th>\n",
       "      <th>ZN</th>\n",
       "      <th>INDUS</th>\n",
       "      <th>CHAS</th>\n",
       "      <th>NOX</th>\n",
       "      <th>RM</th>\n",
       "      <th>AGE</th>\n",
       "      <th>DIS</th>\n",
       "      <th>RAD</th>\n",
       "      <th>TAX</th>\n",
       "      <th>PT</th>\n",
       "      <th>B</th>\n",
       "      <th>LSTAT</th>\n",
       "      <th>MV</th>\n",
       "    </tr>\n",
       "  </thead>\n",
       "  <tbody>\n",
       "    <tr>\n",
       "      <th>0</th>\n",
       "      <td>0.00632</td>\n",
       "      <td>18.0</td>\n",
       "      <td>2.31</td>\n",
       "      <td>0</td>\n",
       "      <td>0.538</td>\n",
       "      <td>6.575</td>\n",
       "      <td>65.199997</td>\n",
       "      <td>4.0900</td>\n",
       "      <td>1</td>\n",
       "      <td>296</td>\n",
       "      <td>15.300000</td>\n",
       "      <td>396.899994</td>\n",
       "      <td>4.98</td>\n",
       "      <td>24.000000</td>\n",
       "    </tr>\n",
       "    <tr>\n",
       "      <th>1</th>\n",
       "      <td>0.02731</td>\n",
       "      <td>0.0</td>\n",
       "      <td>7.07</td>\n",
       "      <td>0</td>\n",
       "      <td>0.469</td>\n",
       "      <td>6.421</td>\n",
       "      <td>78.900002</td>\n",
       "      <td>4.9671</td>\n",
       "      <td>2</td>\n",
       "      <td>242</td>\n",
       "      <td>17.799999</td>\n",
       "      <td>396.899994</td>\n",
       "      <td>9.14</td>\n",
       "      <td>21.600000</td>\n",
       "    </tr>\n",
       "    <tr>\n",
       "      <th>2</th>\n",
       "      <td>0.02729</td>\n",
       "      <td>0.0</td>\n",
       "      <td>7.07</td>\n",
       "      <td>0</td>\n",
       "      <td>0.469</td>\n",
       "      <td>7.185</td>\n",
       "      <td>61.099998</td>\n",
       "      <td>4.9671</td>\n",
       "      <td>2</td>\n",
       "      <td>242</td>\n",
       "      <td>17.799999</td>\n",
       "      <td>392.829987</td>\n",
       "      <td>4.03</td>\n",
       "      <td>34.700001</td>\n",
       "    </tr>\n",
       "    <tr>\n",
       "      <th>3</th>\n",
       "      <td>0.03237</td>\n",
       "      <td>0.0</td>\n",
       "      <td>2.18</td>\n",
       "      <td>0</td>\n",
       "      <td>0.458</td>\n",
       "      <td>6.998</td>\n",
       "      <td>45.799999</td>\n",
       "      <td>6.0622</td>\n",
       "      <td>3</td>\n",
       "      <td>222</td>\n",
       "      <td>18.700001</td>\n",
       "      <td>394.630005</td>\n",
       "      <td>2.94</td>\n",
       "      <td>33.400002</td>\n",
       "    </tr>\n",
       "    <tr>\n",
       "      <th>4</th>\n",
       "      <td>0.06905</td>\n",
       "      <td>0.0</td>\n",
       "      <td>2.18</td>\n",
       "      <td>0</td>\n",
       "      <td>0.458</td>\n",
       "      <td>7.147</td>\n",
       "      <td>54.200001</td>\n",
       "      <td>6.0622</td>\n",
       "      <td>3</td>\n",
       "      <td>222</td>\n",
       "      <td>18.700001</td>\n",
       "      <td>396.899994</td>\n",
       "      <td>5.33</td>\n",
       "      <td>36.200001</td>\n",
       "    </tr>\n",
       "    <tr>\n",
       "      <th>...</th>\n",
       "      <td>...</td>\n",
       "      <td>...</td>\n",
       "      <td>...</td>\n",
       "      <td>...</td>\n",
       "      <td>...</td>\n",
       "      <td>...</td>\n",
       "      <td>...</td>\n",
       "      <td>...</td>\n",
       "      <td>...</td>\n",
       "      <td>...</td>\n",
       "      <td>...</td>\n",
       "      <td>...</td>\n",
       "      <td>...</td>\n",
       "      <td>...</td>\n",
       "    </tr>\n",
       "    <tr>\n",
       "      <th>383</th>\n",
       "      <td>0.17783</td>\n",
       "      <td>0.0</td>\n",
       "      <td>9.69</td>\n",
       "      <td>0</td>\n",
       "      <td>0.585</td>\n",
       "      <td>5.569</td>\n",
       "      <td>73.500000</td>\n",
       "      <td>2.3999</td>\n",
       "      <td>6</td>\n",
       "      <td>391</td>\n",
       "      <td>19.200001</td>\n",
       "      <td>395.769989</td>\n",
       "      <td>15.10</td>\n",
       "      <td>17.500000</td>\n",
       "    </tr>\n",
       "    <tr>\n",
       "      <th>384</th>\n",
       "      <td>0.22438</td>\n",
       "      <td>0.0</td>\n",
       "      <td>9.69</td>\n",
       "      <td>0</td>\n",
       "      <td>0.585</td>\n",
       "      <td>6.027</td>\n",
       "      <td>79.699997</td>\n",
       "      <td>2.4982</td>\n",
       "      <td>6</td>\n",
       "      <td>391</td>\n",
       "      <td>19.200001</td>\n",
       "      <td>396.899994</td>\n",
       "      <td>14.33</td>\n",
       "      <td>16.799999</td>\n",
       "    </tr>\n",
       "    <tr>\n",
       "      <th>385</th>\n",
       "      <td>0.04527</td>\n",
       "      <td>0.0</td>\n",
       "      <td>11.93</td>\n",
       "      <td>0</td>\n",
       "      <td>0.573</td>\n",
       "      <td>6.120</td>\n",
       "      <td>76.699997</td>\n",
       "      <td>2.2875</td>\n",
       "      <td>1</td>\n",
       "      <td>273</td>\n",
       "      <td>21.000000</td>\n",
       "      <td>396.899994</td>\n",
       "      <td>9.08</td>\n",
       "      <td>20.600000</td>\n",
       "    </tr>\n",
       "    <tr>\n",
       "      <th>386</th>\n",
       "      <td>0.10959</td>\n",
       "      <td>0.0</td>\n",
       "      <td>11.93</td>\n",
       "      <td>0</td>\n",
       "      <td>0.573</td>\n",
       "      <td>6.794</td>\n",
       "      <td>89.300003</td>\n",
       "      <td>2.3889</td>\n",
       "      <td>1</td>\n",
       "      <td>273</td>\n",
       "      <td>21.000000</td>\n",
       "      <td>393.450012</td>\n",
       "      <td>6.48</td>\n",
       "      <td>22.000000</td>\n",
       "    </tr>\n",
       "    <tr>\n",
       "      <th>387</th>\n",
       "      <td>0.04741</td>\n",
       "      <td>0.0</td>\n",
       "      <td>11.93</td>\n",
       "      <td>0</td>\n",
       "      <td>0.573</td>\n",
       "      <td>6.030</td>\n",
       "      <td>80.800003</td>\n",
       "      <td>2.5050</td>\n",
       "      <td>1</td>\n",
       "      <td>273</td>\n",
       "      <td>21.000000</td>\n",
       "      <td>396.899994</td>\n",
       "      <td>7.88</td>\n",
       "      <td>11.900000</td>\n",
       "    </tr>\n",
       "  </tbody>\n",
       "</table>\n",
       "<p>388 rows × 14 columns</p>\n",
       "</div>"
      ],
      "text/plain": [
       "        CRIM    ZN  INDUS  CHAS  ...         PT           B  LSTAT         MV\n",
       "0    0.00632  18.0   2.31     0  ...  15.300000  396.899994   4.98  24.000000\n",
       "1    0.02731   0.0   7.07     0  ...  17.799999  396.899994   9.14  21.600000\n",
       "2    0.02729   0.0   7.07     0  ...  17.799999  392.829987   4.03  34.700001\n",
       "3    0.03237   0.0   2.18     0  ...  18.700001  394.630005   2.94  33.400002\n",
       "4    0.06905   0.0   2.18     0  ...  18.700001  396.899994   5.33  36.200001\n",
       "..       ...   ...    ...   ...  ...        ...         ...    ...        ...\n",
       "383  0.17783   0.0   9.69     0  ...  19.200001  395.769989  15.10  17.500000\n",
       "384  0.22438   0.0   9.69     0  ...  19.200001  396.899994  14.33  16.799999\n",
       "385  0.04527   0.0  11.93     0  ...  21.000000  396.899994   9.08  20.600000\n",
       "386  0.10959   0.0  11.93     0  ...  21.000000  393.450012   6.48  22.000000\n",
       "387  0.04741   0.0  11.93     0  ...  21.000000  396.899994   7.88  11.900000\n",
       "\n",
       "[388 rows x 14 columns]"
      ]
     },
     "execution_count": 21,
     "metadata": {},
     "output_type": "execute_result"
    }
   ],
   "source": [
    "sampled_data"
   ]
  },
  {
   "cell_type": "code",
   "execution_count": 26,
   "id": "20d62b51",
   "metadata": {
    "id": "MVnT7HL2ujIy"
   },
   "outputs": [],
   "source": [
    "import six\n"
   ]
  },
  {
   "cell_type": "code",
   "execution_count": 28,
   "id": "40938342",
   "metadata": {
    "colab": {
     "base_uri": "https://localhost:8080/"
    },
    "id": "Z0sw4TXSwcXS",
    "outputId": "f756c6fd-695e-42b6-e0c6-3ed540b79ae6"
   },
   "outputs": [
    {
     "name": "stdout",
     "output_type": "stream",
     "text": [
      "Correlation to MV for  CRIM -0.3883046116575088\n",
      "Correlation to MV for  ZN 0.36044534463752903\n",
      "Correlation to MV for  INDUS -0.48372517128143383\n",
      "Correlation to MV for  CHAS 0.17526017775291847\n",
      "Correlation to MV for  NOX -0.4273207763683772\n",
      "Correlation to MV for  RM 0.695359937127267\n",
      "Correlation to MV for  AGE -0.37695456714288667\n",
      "Correlation to MV for  DIS 0.24992873873512172\n",
      "Correlation to MV for  RAD -0.3816262315669168\n",
      "Correlation to MV for  TAX -0.46853593528654536\n",
      "Correlation to MV for  PT -0.5077867038116085\n",
      "Correlation to MV for  B 0.3334608226834164\n",
      "Correlation to MV for  LSTAT -0.7376627294671615\n",
      "Correlation to MV for  MV 1.0\n"
     ]
    }
   ],
   "source": [
    "for i in data.columns:\n",
    "    if not( isinstance(data.select(i).take(1)[0][0], six.string_types)):\n",
    "        print( \"Correlation to MV for \", i, data.stat.corr('MV',i))"
   ]
  },
  {
   "cell_type": "code",
   "execution_count": 9,
   "id": "acc57db3",
   "metadata": {
    "colab": {
     "base_uri": "https://localhost:8080/"
    },
    "id": "_5Ttcct4kBAW",
    "outputId": "69a6a948-0f9e-4a22-c025-a1a2791f972f"
   },
   "outputs": [
    {
     "name": "stderr",
     "output_type": "stream",
     "text": [
      "/usr/local/lib/python3.7/dist-packages/pyspark/sql/context.py:127: FutureWarning: Deprecated in 3.0.0. Use SparkSession.builder.getOrCreate() instead.\n",
      "  FutureWarning\n"
     ]
    }
   ],
   "source": [
    "from pyspark.ml.stat import Correlation\n",
    "from pyspark.ml.feature import VectorAssembler\n",
    "\n",
    "\n",
    "vector_col = \"corr_features\"\n",
    "assembler = VectorAssembler(inputCols=data.columns, outputCol=vector_col)\n",
    "data_vector = assembler.transform(data).select(vector_col)\n",
    "\n",
    "\n",
    "matrix = Correlation.corr(data_vector, vector_col)"
   ]
  },
  {
   "cell_type": "code",
   "execution_count": 10,
   "id": "dc0a8cb8",
   "metadata": {
    "colab": {
     "base_uri": "https://localhost:8080/"
    },
    "id": "wIGyxzhakBRn",
    "outputId": "c5e02b52-f04f-4d6d-b734-67a6833f77a9"
   },
   "outputs": [
    {
     "name": "stdout",
     "output_type": "stream",
     "text": [
      "DataFrame[pearson(corr_features): matrix]\n"
     ]
    }
   ],
   "source": [
    "print(matrix)"
   ]
  },
  {
   "cell_type": "code",
   "execution_count": 11,
   "id": "369141b7",
   "metadata": {
    "colab": {
     "base_uri": "https://localhost:8080/"
    },
    "id": "HsYfhsw1koav",
    "outputId": "6ca583e1-625d-4ec4-9917-68f169e4dae7"
   },
   "outputs": [
    {
     "data": {
      "text/plain": [
       "array([ 1.        , -0.20046922,  0.40658343, -0.05589158,  0.42097173,\n",
       "       -0.2192467 ,  0.35273425, -0.37967009,  0.62550515,  0.58276431,\n",
       "        0.28994564, -0.38506395,  0.45562148, -0.38830461, -0.20046922,\n",
       "        1.        , -0.53382819, -0.04269672, -0.51660371,  0.31199059,\n",
       "       -0.56953734,  0.66440822, -0.31194783, -0.31456332, -0.39167853,\n",
       "        0.17552031, -0.41299458,  0.36044534,  0.40658343, -0.53382819,\n",
       "        1.        ,  0.06293803,  0.76365146, -0.39167586,  0.64477851,\n",
       "       -0.70802699,  0.5951293 ,  0.7207602 ,  0.38324764, -0.35697654,\n",
       "        0.60379972, -0.48372517, -0.05589158, -0.04269672,  0.06293803,\n",
       "        1.        ,  0.0912028 ,  0.09125123,  0.08651777, -0.09917578,\n",
       "       -0.00736824, -0.03558652, -0.12151517,  0.04878849, -0.0539293 ,\n",
       "        0.17526018,  0.42097173, -0.51660371,  0.76365146,  0.0912028 ,\n",
       "        1.        , -0.30218816,  0.73147011, -0.76923012,  0.61144056,\n",
       "        0.66802321,  0.18893272, -0.38005064,  0.59087892, -0.42732078,\n",
       "       -0.2192467 ,  0.31199059, -0.39167586,  0.09125123, -0.30218816,\n",
       "        1.        , -0.24026491,  0.2052462 , -0.20984667, -0.29204784,\n",
       "       -0.3555015 ,  0.12806863, -0.61380826,  0.69535994,  0.35273425,\n",
       "       -0.56953734,  0.64477851,  0.08651777,  0.73147011, -0.24026491,\n",
       "        1.        , -0.74788054,  0.45602245,  0.5064556 ,  0.26151502,\n",
       "       -0.27353397,  0.60233853, -0.37695457, -0.37967009,  0.66440822,\n",
       "       -0.70802699, -0.09917578, -0.76923012,  0.2052462 , -0.74788054,\n",
       "        1.        , -0.49458793, -0.53443158, -0.23247057,  0.29151167,\n",
       "       -0.49699583,  0.24992874,  0.62550515, -0.31194783,  0.5951293 ,\n",
       "       -0.00736824,  0.61144056, -0.20984667,  0.45602245, -0.49458793,\n",
       "        1.        ,  0.91022819,  0.46474127, -0.44441282,  0.48867634,\n",
       "       -0.38162623,  0.58276431, -0.31456332,  0.7207602 , -0.03558652,\n",
       "        0.66802321, -0.29204784,  0.5064556 , -0.53443158,  0.91022819,\n",
       "        1.        ,  0.46085312, -0.44180801,  0.54399341, -0.46853594,\n",
       "        0.28994564, -0.39167853,  0.38324764, -0.12151517,  0.18893272,\n",
       "       -0.3555015 ,  0.26151502, -0.23247057,  0.46474127,  0.46085312,\n",
       "        1.        , -0.17738334,  0.37404435, -0.5077867 , -0.38506395,\n",
       "        0.17552031, -0.35697654,  0.04878849, -0.38005064,  0.12806863,\n",
       "       -0.27353397,  0.29151167, -0.44441282, -0.44180801, -0.17738334,\n",
       "        1.        , -0.3660869 ,  0.33346082,  0.45562148, -0.41299458,\n",
       "        0.60379972, -0.0539293 ,  0.59087892, -0.61380826,  0.60233853,\n",
       "       -0.49699583,  0.48867634,  0.54399341,  0.37404435, -0.3660869 ,\n",
       "        1.        , -0.73766273, -0.38830461,  0.36044534, -0.48372517,\n",
       "        0.17526018, -0.42732078,  0.69535994, -0.37695457,  0.24992874,\n",
       "       -0.38162623, -0.46853594, -0.5077867 ,  0.33346082, -0.73766273,\n",
       "        1.        ])"
      ]
     },
     "execution_count": 11,
     "metadata": {},
     "output_type": "execute_result"
    }
   ],
   "source": [
    "matrix.collect()[0][\"pearson({})\".format(vector_col)].values"
   ]
  },
  {
   "cell_type": "code",
   "execution_count": 29,
   "id": "94bdd21b",
   "metadata": {
    "id": "5x9J2AfPw2Kp"
   },
   "outputs": [],
   "source": [
    "vectorAssembler = VectorAssembler(inputCols = \n",
    "                                  ['CRIM', 'ZN', 'INDUS', 'CHAS', 'NOX', 'RM', 'AGE', 'DIS', 'RAD', 'TAX', 'PT', 'B', 'LSTAT'], outputCol = 'features')"
   ]
  },
  {
   "cell_type": "code",
   "execution_count": 31,
   "id": "cce7ad14",
   "metadata": {
    "id": "EF0_pT2Xw2WR"
   },
   "outputs": [],
   "source": [
    "vector_data  = vectorAssembler.transform(data)"
   ]
  },
  {
   "cell_type": "code",
   "execution_count": 32,
   "id": "c414395b",
   "metadata": {
    "colab": {
     "base_uri": "https://localhost:8080/"
    },
    "id": "FLz5j8hPw2d2",
    "outputId": "e6a96744-2f7a-4281-abf3-a7d40a62b007"
   },
   "outputs": [
    {
     "data": {
      "text/plain": [
       "DataFrame[CRIM: double, ZN: double, INDUS: double, CHAS: int, NOX: double, RM: double, AGE: double, DIS: double, RAD: int, TAX: int, PT: double, B: double, LSTAT: double, MV: double, features: vector]"
      ]
     },
     "execution_count": 32,
     "metadata": {},
     "output_type": "execute_result"
    }
   ],
   "source": [
    "vector_data"
   ]
  },
  {
   "cell_type": "code",
   "execution_count": 33,
   "id": "5912d631",
   "metadata": {
    "id": "u7lU4RJAxs6Z"
   },
   "outputs": [],
   "source": [
    "vector_data = vector_data.select(['features', 'MV'])"
   ]
  },
  {
   "cell_type": "code",
   "execution_count": 35,
   "id": "8415862e",
   "metadata": {
    "colab": {
     "base_uri": "https://localhost:8080/"
    },
    "id": "kRNJ3qCoxtHj",
    "outputId": "35ace2f4-5923-468e-ff3b-0d291122629f"
   },
   "outputs": [
    {
     "name": "stdout",
     "output_type": "stream",
     "text": [
      "+--------------------+-----------+\n",
      "|            features|         MV|\n",
      "+--------------------+-----------+\n",
      "|[0.00632,18.0,2.3...|       24.0|\n",
      "|[0.027310001,0.0,...|21.60000038|\n",
      "|[0.02729,0.0,7.07...|34.70000076|\n",
      "|[0.032370001,0.0,...|33.40000153|\n",
      "|[0.069049999,0.0,...|36.20000076|\n",
      "+--------------------+-----------+\n",
      "only showing top 5 rows\n",
      "\n"
     ]
    }
   ],
   "source": [
    "vector_data.show(5)"
   ]
  },
  {
   "cell_type": "code",
   "execution_count": 36,
   "id": "741168e3",
   "metadata": {
    "id": "omUsI7pGxtQI"
   },
   "outputs": [],
   "source": [
    "splits = vector_data.randomSplit([0.7, 0.3])\n",
    "train_data = splits[0]\n",
    "test_data = splits[1]"
   ]
  },
  {
   "cell_type": "code",
   "execution_count": 39,
   "id": "46ab15ad",
   "metadata": {
    "id": "DO65MOetyazy"
   },
   "outputs": [],
   "source": [
    "from pyspark.ml.regression import LinearRegression\n",
    "lr = LinearRegression(featuresCol = 'features', labelCol='MV', maxIter=10, regParam=0.2, elasticNetParam=0.7)\n",
    "lr_model = lr.fit(train_data)"
   ]
  },
  {
   "cell_type": "code",
   "execution_count": 42,
   "id": "2a0e26e2",
   "metadata": {
    "colab": {
     "base_uri": "https://localhost:8080/"
    },
    "id": "u57PfBNUyvzu",
    "outputId": "fef6d4b9-dab8-4fd3-b515-5a84db64bf34"
   },
   "outputs": [
    {
     "name": "stdout",
     "output_type": "stream",
     "text": [
      "RMSE: 5.090220\n",
      "r2: 0.695929\n"
     ]
    }
   ],
   "source": [
    "trainingSummary = lr_model.summary\n",
    "print(\"RMSE: %f\" % trainingSummary.rootMeanSquaredError)\n",
    "print(\"r2: %f\" % trainingSummary.r2)"
   ]
  },
  {
   "cell_type": "code",
   "execution_count": 43,
   "id": "393957fd",
   "metadata": {
    "colab": {
     "base_uri": "https://localhost:8080/"
    },
    "id": "TFy4yCibyv3H",
    "outputId": "d61b40c3-856a-4d19-9152-7461def1ac9e"
   },
   "outputs": [
    {
     "name": "stdout",
     "output_type": "stream",
     "text": [
      "+-------+------------------+\n",
      "|summary|                MV|\n",
      "+-------+------------------+\n",
      "|  count|               363|\n",
      "|   mean|22.377961458269976|\n",
      "| stddev| 9.243747168806626|\n",
      "|    min|               5.0|\n",
      "|    max|              50.0|\n",
      "+-------+------------------+\n",
      "\n"
     ]
    }
   ],
   "source": [
    "train_data.describe().show()"
   ]
  },
  {
   "cell_type": "code",
   "execution_count": 45,
   "id": "18d0e1df",
   "metadata": {
    "colab": {
     "base_uri": "https://localhost:8080/"
    },
    "id": "B4VHuDzOzpjg",
    "outputId": "23d4e6d0-6fa5-4952-995f-81d62e5dcbac"
   },
   "outputs": [
    {
     "name": "stdout",
     "output_type": "stream",
     "text": [
      "+------------------+-----------+--------------------+\n",
      "|        prediction|         MV|            features|\n",
      "+------------------+-----------+--------------------+\n",
      "|30.461453612686732|       24.0|[0.00632,18.0,2.3...|\n",
      "|30.284820300434156|32.20000076|[0.00906,90.0,2.9...|\n",
      "| 37.73463089889245|       50.0|[0.01381,80.0,0.4...|\n",
      "|27.026001113195377|       24.5|[0.01501,80.0,2.0...|\n",
      "| 41.19426506893861|       50.0|[0.01501,90.0,1.2...|\n",
      "+------------------+-----------+--------------------+\n",
      "only showing top 5 rows\n",
      "\n"
     ]
    }
   ],
   "source": [
    "lr_predictions = lr_model.transform(test_data)\n",
    "lr_predictions.select(\"prediction\",\"MV\",\"features\").show(5)"
   ]
  },
  {
   "cell_type": "code",
   "execution_count": 46,
   "id": "a8c68655",
   "metadata": {
    "id": "gwi7IxJVzpwE"
   },
   "outputs": [],
   "source": [
    "from pyspark.ml.evaluation import RegressionEvaluator\n",
    "lr_evaluator = RegressionEvaluator(predictionCol=\"prediction\", \\\n",
    "                 labelCol=\"MV\",metricName=\"r2\")"
   ]
  },
  {
   "cell_type": "code",
   "execution_count": 47,
   "id": "0dc24f33",
   "metadata": {
    "colab": {
     "base_uri": "https://localhost:8080/"
    },
    "id": "N3XVs6d5zpy7",
    "outputId": "c064209a-e2fd-45a8-9b5e-9eadd337de2c"
   },
   "outputs": [
    {
     "name": "stdout",
     "output_type": "stream",
     "text": [
      "R Squared (R2) on test data = 0.769889\n"
     ]
    }
   ],
   "source": [
    "print(\"R Squared (R2) on test data = %g\" % lr_evaluator.evaluate(lr_predictions))"
   ]
  },
  {
   "cell_type": "code",
   "execution_count": 48,
   "id": "8c93d87a",
   "metadata": {
    "colab": {
     "base_uri": "https://localhost:8080/"
    },
    "id": "wnnIbZDTzp2S",
    "outputId": "55acc435-65a0-47a9-e726-b11bd80be967"
   },
   "outputs": [
    {
     "name": "stdout",
     "output_type": "stream",
     "text": [
      "Root Mean Squared Error (RMSE) on test data = 4.34899\n"
     ]
    }
   ],
   "source": [
    "test_result = lr_model.evaluate(test_data)\n",
    "print(\"Root Mean Squared Error (RMSE) on test data = %g\" % test_result.rootMeanSquaredError)"
   ]
  },
  {
   "cell_type": "code",
   "execution_count": null,
   "id": "1aaa062e",
   "metadata": {},
   "outputs": [],
   "source": []
  }
 ],
 "metadata": {
  "kernelspec": {
   "display_name": "Python 3 (ipykernel)",
   "language": "python",
   "name": "python3"
  },
  "language_info": {
   "codemirror_mode": {
    "name": "ipython",
    "version": 3
   },
   "file_extension": ".py",
   "mimetype": "text/x-python",
   "name": "python",
   "nbconvert_exporter": "python",
   "pygments_lexer": "ipython3",
   "version": "3.9.13"
  }
 },
 "nbformat": 4,
 "nbformat_minor": 5
}
